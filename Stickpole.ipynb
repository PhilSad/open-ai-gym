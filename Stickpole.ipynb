{
 "cells": [
  {
   "cell_type": "code",
   "execution_count": 1,
   "metadata": {
    "scrolled": true
   },
   "outputs": [],
   "source": [
    "import gym\n",
    "import numpy as np"
   ]
  },
  {
   "cell_type": "code",
   "execution_count": 2,
   "metadata": {
    "scrolled": true
   },
   "outputs": [
    {
     "name": "stdout",
     "output_type": "stream",
     "text": [
      "fini\n",
      "fini\n",
      "fini\n",
      "fini\n",
      "fini\n",
      "fini\n",
      "fini\n",
      "fini\n",
      "fini\n",
      "fini\n",
      "fini\n",
      "fini\n",
      "fini\n"
     ]
    },
    {
     "name": "stderr",
     "output_type": "stream",
     "text": [
      "/home/phil/anaconda3/lib/python2.7/site-packages/gym/logger.py:30: UserWarning: \u001b[33mWARN: You are calling 'step()' even though this environment has already returned done = True. You should always call 'reset()' once you receive 'done = True' -- any further steps are undefined behavior.\u001b[0m\n",
      "  warnings.warn(colorize('%s: %s'%('WARN', msg % args), 'yellow'))\n"
     ]
    },
    {
     "name": "stdout",
     "output_type": "stream",
     "text": [
      "fini\n",
      "fini\n",
      "fini\n",
      "fini\n",
      "fini\n",
      "fini\n",
      "fini\n",
      "fini\n",
      "fini\n",
      "fini\n",
      "fini\n",
      "fini\n",
      "fini\n",
      "fini\n",
      "fini\n",
      "fini\n",
      "fini\n",
      "fini\n",
      "fini\n",
      "fini\n",
      "fini\n",
      "fini\n",
      "fini\n",
      "fini\n",
      "fini\n",
      "fini\n",
      "fini\n",
      "fini\n",
      "fini\n",
      "fini\n",
      "fini\n",
      "fini\n",
      "fini\n",
      "fini\n",
      "fini\n",
      "fini\n",
      "fini\n",
      "fini\n",
      "fini\n",
      "fini\n",
      "fini\n",
      "fini\n",
      "fini\n",
      "fini\n",
      "fini\n",
      "fini\n",
      "fini\n",
      "fini\n",
      "fini\n",
      "fini\n",
      "fini\n",
      "fini\n",
      "fini\n",
      "fini\n",
      "fini\n",
      "fini\n",
      "fini\n",
      "fini\n",
      "fini\n",
      "fini\n",
      "fini\n",
      "fini\n",
      "fini\n",
      "fini\n",
      "fini\n",
      "fini\n",
      "fini\n",
      "fini\n",
      "fini\n",
      "fini\n",
      "fini\n",
      "fini\n",
      "fini\n",
      "fini\n",
      "fini\n",
      "fini\n",
      "fini\n",
      "fini\n",
      "10.0\n"
     ]
    }
   ],
   "source": [
    "env = gym.make('CartPole-v0')\n",
    "observations = env.reset()\n",
    "score = 0\n",
    "for _ in range(100):\n",
    "    env.render()\n",
    "    observations, reward, done, info = env.step(0)\n",
    "    score += reward\n",
    "    if done:\n",
    "        print(\"fini\")\n",
    "#         break\n",
    "print(score)\n",
    "env.close()"
   ]
  },
  {
   "cell_type": "code",
   "execution_count": 3,
   "metadata": {},
   "outputs": [
    {
     "data": {
      "text/plain": [
       "0.0"
      ]
     },
     "execution_count": 3,
     "metadata": {},
     "output_type": "execute_result"
    }
   ],
   "source": [
    "observations\n",
    "reward"
   ]
  },
  {
   "cell_type": "code",
   "execution_count": 4,
   "metadata": {
    "scrolled": false
   },
   "outputs": [
    {
     "name": "stderr",
     "output_type": "stream",
     "text": [
      "Using TensorFlow backend.\n"
     ]
    }
   ],
   "source": [
    "import keras"
   ]
  },
  {
   "cell_type": "code",
   "execution_count": 5,
   "metadata": {},
   "outputs": [
    {
     "data": {
      "text/plain": [
       "1"
      ]
     },
     "execution_count": 5,
     "metadata": {},
     "output_type": "execute_result"
    }
   ],
   "source": [
    "np.random.randint(2)"
   ]
  },
  {
   "cell_type": "code",
   "execution_count": 186,
   "metadata": {
    "scrolled": true
   },
   "outputs": [],
   "source": [
    "nb_essai = 10000\n",
    "score_min = 60\n",
    "max_step = 100\n",
    "\n",
    "\n",
    "def get_training_data(nb_essai = 10000, score_min = 100, max_step = 500):\n",
    "\n",
    "    training_data = [] # [(observations, action one hoted), ...]  On ne garde que les training réussis\n",
    "\n",
    "    env = gym.make('CartPole-v1')\n",
    "    \n",
    "    scores = []\n",
    "    \n",
    "    for i in range(nb_essai):\n",
    "        score = 0    \n",
    "        history = [] #[(observations, action)]\n",
    "        cur_observations = env.reset()     \n",
    "        for _ in range(max_step):\n",
    "            # Choisir une action\n",
    "            action = np.random.randint(2)\n",
    "\n",
    "            # Jouer le coup\n",
    "            new_observations, reward, done, info = env.step(action)\n",
    "\n",
    "            # Stockage historique\n",
    "            history.append((cur_observations, action))\n",
    "            \n",
    "            cur_observations = new_observations\n",
    "            \n",
    "            score += reward\n",
    "\n",
    "            if done:\n",
    "                break\n",
    "\n",
    "        if score >= score_min:\n",
    "            scores.append(score)\n",
    "            for obs, act in history:\n",
    "                if act == 0: #gauche\n",
    "                    training_data.append((obs, [1,0]))\n",
    "                elif act == 1: #droite\n",
    "                    training_data.append((obs, [0,1]))\n",
    "                else:\n",
    "                    print(\"NAAAAAAAAAAAA\")\n",
    "\n",
    "    env.close()\n",
    "#     print(scores)\n",
    "    return training_data"
   ]
  },
  {
   "cell_type": "code",
   "execution_count": null,
   "metadata": {},
   "outputs": [],
   "source": []
  },
  {
   "cell_type": "code",
   "execution_count": 121,
   "metadata": {},
   "outputs": [],
   "source": [
    "env = gym.make('CartPole-v1')\n",
    "env.reset()\n",
    "goal_steps = 500\n",
    "score_requirement = 60\n",
    "intial_games = 10000\n",
    "\n",
    "def model_data_preparation():\n",
    "    training_data = []\n",
    "    accepted_scores = []\n",
    "    for game_index in range(intial_games):\n",
    "        score = 0\n",
    "        game_memory = []\n",
    "        previous_observation = []\n",
    "        for step_index in range(goal_steps):\n",
    "            action = np.random.randint(2)\n",
    "            observation, reward, done, info = env.step(action)\n",
    "            \n",
    "            if len(previous_observation) > 0:\n",
    "                game_memory.append([previous_observation, action])\n",
    "                \n",
    "            previous_observation = observation\n",
    "            score += reward\n",
    "            if done:\n",
    "                break\n",
    "            \n",
    "        if score >= score_requirement:\n",
    "            accepted_scores.append(score)\n",
    "            for data in game_memory:\n",
    "                if data[1] == 1:\n",
    "                    output = [0, 1]\n",
    "                elif data[1] == 0:\n",
    "                    output = [1, 0]\n",
    "                training_data.append([data[0], output])\n",
    "        \n",
    "        env.reset()\n",
    "\n",
    "    print(accepted_scores)\n",
    "    \n",
    "    return training_data"
   ]
  },
  {
   "cell_type": "code",
   "execution_count": 151,
   "metadata": {
    "scrolled": true
   },
   "outputs": [
    {
     "name": "stdout",
     "output_type": "stream",
     "text": [
      "[70.0, 62.0, 62.0, 67.0, 72.0, 79.0, 60.0, 62.0, 62.0, 65.0, 87.0, 81.0, 92.0, 65.0, 73.0, 62.0, 61.0, 61.0, 97.0, 66.0, 69.0, 69.0, 83.0, 68.0, 109.0, 72.0, 63.0, 62.0, 61.0, 101.0, 89.0, 69.0, 65.0, 82.0, 60.0, 63.0, 77.0, 60.0, 80.0, 81.0, 66.0, 76.0, 79.0, 65.0, 114.0, 64.0, 62.0, 66.0, 69.0, 67.0, 68.0, 64.0, 115.0, 62.0, 78.0, 64.0, 80.0, 64.0, 69.0, 65.0, 73.0, 63.0, 63.0, 82.0, 86.0, 78.0, 74.0, 64.0, 74.0, 60.0, 69.0, 81.0, 60.0, 154.0, 62.0, 73.0, 66.0, 72.0, 68.0, 66.0, 66.0, 71.0, 79.0, 71.0, 82.0, 98.0, 74.0, 76.0, 69.0, 64.0, 73.0, 73.0, 61.0, 76.0, 75.0, 60.0, 70.0, 63.0, 84.0, 86.0, 60.0, 62.0, 74.0, 61.0, 68.0, 83.0, 88.0, 65.0, 76.0, 62.0, 72.0, 98.0, 71.0, 61.0, 68.0, 72.0, 60.0, 69.0, 74.0, 63.0, 69.0, 67.0, 62.0, 74.0, 67.0, 64.0, 60.0, 63.0, 84.0, 60.0, 95.0, 99.0, 63.0, 75.0, 66.0, 93.0, 74.0, 88.0, 63.0, 73.0, 71.0, 70.0, 60.0, 64.0, 94.0, 86.0, 73.0, 69.0, 62.0, 70.0, 76.0, 71.0, 86.0, 60.0, 69.0, 82.0, 71.0, 60.0, 78.0, 82.0, 79.0, 71.0, 64.0, 70.0, 88.0, 60.0, 60.0, 102.0]\n"
     ]
    }
   ],
   "source": [
    "data1 = get_training_data()\n",
    "# data2 = model_data_preparation()"
   ]
  },
  {
   "cell_type": "code",
   "execution_count": 135,
   "metadata": {},
   "outputs": [
    {
     "data": {
      "text/plain": [
       "(array([-0.03077791, -0.18526109, -0.02581239,  0.28720669]), [1, 0])"
      ]
     },
     "execution_count": 135,
     "metadata": {},
     "output_type": "execute_result"
    }
   ],
   "source": [
    "data1[0]"
   ]
  },
  {
   "cell_type": "code",
   "execution_count": 136,
   "metadata": {},
   "outputs": [
    {
     "data": {
      "text/plain": [
       "[array([ 0.01942883, -0.22411597, -0.03934527,  0.32075478]), [0, 1]]"
      ]
     },
     "execution_count": 136,
     "metadata": {},
     "output_type": "execute_result"
    }
   ],
   "source": [
    "data2[0]"
   ]
  },
  {
   "cell_type": "code",
   "execution_count": null,
   "metadata": {},
   "outputs": [],
   "source": []
  },
  {
   "cell_type": "code",
   "execution_count": 7,
   "metadata": {},
   "outputs": [],
   "source": [
    "from keras.models import Sequential\n",
    "from keras.layers import Dense"
   ]
  },
  {
   "cell_type": "code",
   "execution_count": 187,
   "metadata": {
    "scrolled": true
   },
   "outputs": [],
   "source": [
    "training_data = get_training_data(score_min=60)"
   ]
  },
  {
   "cell_type": "code",
   "execution_count": 138,
   "metadata": {},
   "outputs": [
    {
     "data": {
      "text/plain": [
       "(10243, 13833)"
      ]
     },
     "execution_count": 138,
     "metadata": {},
     "output_type": "execute_result"
    }
   ],
   "source": [
    "len(data1), len(data2)"
   ]
  },
  {
   "cell_type": "code",
   "execution_count": 215,
   "metadata": {},
   "outputs": [
    {
     "name": "stdout",
     "output_type": "stream",
     "text": [
      "Epoch 1/5\n",
      "12102/12102 [==============================] - 1s 84us/step - loss: 0.2511 - acc: 0.6055\n",
      "Epoch 2/5\n",
      "12102/12102 [==============================] - 0s 32us/step - loss: 0.2341 - acc: 0.6087\n",
      "Epoch 3/5\n",
      "12102/12102 [==============================] - 0s 31us/step - loss: 0.2338 - acc: 0.6079\n",
      "Epoch 4/5\n",
      "12102/12102 [==============================] - 1s 43us/step - loss: 0.2327 - acc: 0.6087\n",
      "Epoch 5/5\n",
      "12102/12102 [==============================] - 0s 34us/step - loss: 0.2324 - acc: 0.6117\n"
     ]
    },
    {
     "data": {
      "text/plain": [
       "<keras.callbacks.History at 0x7f85045ecad0>"
      ]
     },
     "execution_count": 215,
     "metadata": {},
     "output_type": "execute_result"
    }
   ],
   "source": [
    "model = Sequential()\n",
    "model.add(Dense(128, input_dim = len(training_data[0][0]), activation='relu'))\n",
    "model.add(Dense(52, activation='relu'))\n",
    "model.add(Dense(2, activation='linear'))\n",
    "\n",
    "\n",
    "model.compile(optimizer='adam',\n",
    "loss='mse',\n",
    "metrics=['accuracy'])\n",
    "\n",
    "train_x = np.array( [i[0] for i in training_data] )\n",
    "train_y = np.array( [i[1] for i in training_data] )\n",
    "test_x = [i[0] for i in training_data[0 : len(training_data) / 10 ]]\n",
    "test_y = [i[1] for i in training_data[0 : len(training_data) / 10 ]]\n",
    "\n",
    "\n",
    "model.fit(train_x, train_y, epochs=5)"
   ]
  },
  {
   "cell_type": "code",
   "execution_count": null,
   "metadata": {},
   "outputs": [],
   "source": [
    "229"
   ]
  },
  {
   "cell_type": "code",
   "execution_count": null,
   "metadata": {},
   "outputs": [],
   "source": []
  },
  {
   "cell_type": "code",
   "execution_count": null,
   "metadata": {},
   "outputs": [],
   "source": []
  },
  {
   "cell_type": "code",
   "execution_count": 176,
   "metadata": {},
   "outputs": [],
   "source": [
    "from gym import wrappers\n",
    "from time import time"
   ]
  },
  {
   "cell_type": "code",
   "execution_count": 220,
   "metadata": {
    "scrolled": false
   },
   "outputs": [],
   "source": [
    "def run_model(model, nb, visu = True):\n",
    "\n",
    "    env = gym.make('CartPole-v1')\n",
    "#     env = wrappers.Monitor(env, './videos/' + str(time()) + '/')\n",
    "    \n",
    "    obs = []\n",
    "    scores = []\n",
    "    for _ in range(nb):\n",
    "        observation = env.reset()\n",
    "        score = 0\n",
    "        for _ in range(800):\n",
    "            if visu:\n",
    "                a = env.render()\n",
    "#                 print(a)\n",
    "            action = np.argmax(model.predict(np.atleast_2d(observation))[0])\n",
    "            observation, reward, done, info = env.step(action)\n",
    "\n",
    "            obs.append(observation)\n",
    "            score += reward\n",
    "            if done:\n",
    "                break\n",
    "        scores.append(score)\n",
    "\n",
    "    print(scores)\n",
    "\n",
    "    print(\"Moyenne = \", np.mean(scores))\n",
    "\n",
    "    env.close()"
   ]
  },
  {
   "cell_type": "code",
   "execution_count": 221,
   "metadata": {
    "scrolled": true
   },
   "outputs": [
    {
     "name": "stdout",
     "output_type": "stream",
     "text": [
      "[195.0, 176.0, 171.0, 413.0, 262.0]\n",
      "('Moyenne = ', 243.4)\n"
     ]
    }
   ],
   "source": [
    "run_model(model, 5)"
   ]
  },
  {
   "cell_type": "code",
   "execution_count": 166,
   "metadata": {},
   "outputs": [
    {
     "name": "stdout",
     "output_type": "stream",
     "text": [
      "('Moyenne = ', 500.0)\n"
     ]
    }
   ],
   "source": [
    "print(\"Moyenne = \" , np.mean(scores))\n"
   ]
  },
  {
   "cell_type": "code",
   "execution_count": null,
   "metadata": {},
   "outputs": [],
   "source": [
    "model.predict(np.atleast_2d(obs))"
   ]
  },
  {
   "cell_type": "code",
   "execution_count": null,
   "metadata": {},
   "outputs": [],
   "source": [
    "model.predict(np.atleast_2d(obs))"
   ]
  },
  {
   "cell_type": "code",
   "execution_count": null,
   "metadata": {},
   "outputs": [],
   "source": [
    "model.predict(np.atleast_2d(observations))"
   ]
  },
  {
   "cell_type": "code",
   "execution_count": null,
   "metadata": {},
   "outputs": [],
   "source": [
    "model.input_shape"
   ]
  },
  {
   "cell_type": "code",
   "execution_count": null,
   "metadata": {},
   "outputs": [],
   "source": [
    "\n",
    "observations.reshape(4).shape"
   ]
  },
  {
   "cell_type": "code",
   "execution_count": null,
   "metadata": {},
   "outputs": [],
   "source": [
    "len([i for i in training_data if i[1] == [0, 1] ])"
   ]
  },
  {
   "cell_type": "code",
   "execution_count": null,
   "metadata": {},
   "outputs": [],
   "source": [
    "len([i for i in training_data if i[1] == [1,0] ])"
   ]
  },
  {
   "cell_type": "code",
   "execution_count": null,
   "metadata": {},
   "outputs": [],
   "source": []
  }
 ],
 "metadata": {
  "kernelspec": {
   "display_name": "Python 3",
   "language": "python",
   "name": "python3"
  },
  "language_info": {
   "codemirror_mode": {
    "name": "ipython",
    "version": 2
   },
   "file_extension": ".py",
   "mimetype": "text/x-python",
   "name": "python",
   "nbconvert_exporter": "python",
   "pygments_lexer": "ipython2",
   "version": "2.7.16"
  }
 },
 "nbformat": 4,
 "nbformat_minor": 2
}
